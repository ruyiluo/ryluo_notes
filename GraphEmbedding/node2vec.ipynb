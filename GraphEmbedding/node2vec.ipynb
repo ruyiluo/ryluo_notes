{
 "cells": [
  {
   "cell_type": "code",
   "execution_count": 1,
   "metadata": {},
   "outputs": [],
   "source": [
    "import random\n",
    "import numpy as np\n",
    "import pandas as pd \n",
    "import networkx as nx \n",
    "from tqdm import tqdm\n",
    "from gensim.models import Word2Vec\n",
    "\n",
    "from alias import alias_sample, create_alias_tables"
   ]
  },
  {
   "cell_type": "code",
   "execution_count": 2,
   "metadata": {},
   "outputs": [],
   "source": [
    "def gene_transition_prob(G, p, q):\n",
    "    \"\"\"\n",
    "    1. 生成节点之间的转移概率\n",
    "    2. 生成与采样节点上一个节点距离相关的采样概率\n",
    "    \"\"\"\n",
    "    node_alias_dict = {}\n",
    "    # 遍历所有节点, 计算节点之间的转移概率\n",
    "    for node in G.nodes:\n",
    "        # 取出当前节点的所有一阶邻居节点，及对应的权重、\n",
    "        # G[node][nbr]返回的是一个字典{'weight': score}\n",
    "        nbr_node_weight_list = [G[node][nbr].get('weight', 1.0) \\\n",
    "                                for nbr in G.neighbors(node)] \n",
    "        # 归一化概率\n",
    "        normlized_prob_list = [float(weight) / sum(nbr_node_weight_list) \\\n",
    "                               for weight in nbr_node_weight_list]\n",
    "        # 构建alias表\n",
    "        node_alias_dict[node] = create_alias_tables(normlized_prob_list)\n",
    "        \n",
    "        \n",
    "    edge_alias_dict = {}\n",
    "    # 遍历所有的边，计算跟距离相关的采样节点之间的采样概率\n",
    "    for edge in G.edges:\n",
    "        t, v = edge[0], edge[1]\n",
    "        unnormalized_prob_list = []\n",
    "        # 遍历节点v的所有邻居节点\n",
    "        for x in G.neighbors(v):\n",
    "            # 取出v和x之间的权重\n",
    "            weight = G[v][x].get('weight', 1.0)\n",
    "            # 判断节点v邻居节点x与节点t的距离\n",
    "            if x == t: # d_tx=0\n",
    "                unnormalized_prob_list.append(weight / p)\n",
    "            elif G.has_edge(t, x): # d_tx=1\n",
    "                unnormalized_prob_list.append(weight)\n",
    "            else:\n",
    "                unnormalized_prob_list.append(weight / q)\n",
    "        # 概率归一化\n",
    "        normlized_prob_list = [float(weight) / sum(unnormalized_prob_list) \\\n",
    "                               for weight in unnormalized_prob_list]\n",
    "        \n",
    "        # 构建alias表\n",
    "        edge_alias_dict[(t, v)] = create_alias_tables(normlized_prob_list)\n",
    "        \n",
    "    return node_alias_dict, edge_alias_dict"
   ]
  },
  {
   "cell_type": "code",
   "execution_count": 3,
   "metadata": {},
   "outputs": [],
   "source": [
    "def node2vec_walk(G, walk_length=10, p=0.25, q=4):\n",
    "    \"\"\"\n",
    "    1. 生成每个节点，每条边，对应的邻居采样概率分布的alias采样表\n",
    "    2. 遍历所有节点，以每个节点为起始节点开始采样，直到当前节点没有邻居节点\n",
    "       或采样的序列达到设定的长度\n",
    "    \"\"\"\n",
    "    # 获取图中所有节点、边的Alias采样表\n",
    "    node_alias_dict, edge_alias_dict = gene_transition_prob(G, p, q)    \n",
    "    \n",
    "    sentences_list = []\n",
    "    \n",
    "    nodes_list = G.nodes\n",
    "    for node in tqdm(nodes_list):\n",
    "        # 以每个节点为起始节点\n",
    "        tmp_sentence_list = [node]\n",
    "        \n",
    "        while len(tmp_sentence_list) < walk_length:\n",
    "            cur_node = tmp_sentence_list[-1]\n",
    "            nbrs_cur_list = list(G.neighbors(cur_node))\n",
    "            \n",
    "            # 如果当前节点没有邻居节点了退出当前序列的采样\n",
    "            if len(nbrs_cur_list) == 0:\n",
    "                break\n",
    "                \n",
    "            # 如果是起始节点，使用节点采样，因为它没有上一个节点，无法使用距离采样\n",
    "            if len(tmp_sentence_list) == 1:\n",
    "                # 通过alias采样表来采样\n",
    "                accept_prob = node_alias_dict[cur_node][0]\n",
    "                alias_tables = node_alias_dict[cur_node][1]\n",
    "            else:\n",
    "                # 根据不同的距离，来采样\n",
    "                # 获取当前采样节点及上一个节点\n",
    "                t, v = tmp_sentence_list[-2], tmp_sentence_list[-1]\n",
    "                accept_prob = edge_alias_dict[(t,v)][0]\n",
    "                alias_tables = edge_alias_dict[(t,v)][1]\n",
    "                \n",
    "            sample_index = alias_sample(accept_prob, alias_tables)\n",
    "            tmp_sentence_list.append(nbrs_cur_list[sample_index])\n",
    "            \n",
    "        sentences_list.append(tmp_sentence_list)\n",
    "        \n",
    "    return sentences_list"
   ]
  },
  {
   "cell_type": "code",
   "execution_count": 4,
   "metadata": {},
   "outputs": [
    {
     "name": "stderr",
     "output_type": "stream",
     "text": [
      "100%|████████████████████████████████████████████████████████████████████████████████████| 31364/31364 [00:00<00:00, 52597.99it/s]\n"
     ]
    }
   ],
   "source": [
    "params_dict = {\n",
    "    'sentences': '',\n",
    "    'vector_size': 32,\n",
    "    'sg': 1,\n",
    "    'min_count': 0,\n",
    "    'window': 10,\n",
    "    'negative': 5,\n",
    "    'workers': 10,\n",
    "    'epochs': 10\n",
    "}\n",
    "\n",
    "G = nx.read_edgelist('./graph.csv', create_using=nx.DiGraph(), \\\n",
    "                     nodetype=None, data=[('weight', int)])\n",
    "sentences = node2vec_walk(G)\n",
    "\n",
    "params_dict['sentences'] = sentences\n",
    "\n",
    "# 定义word2vec模型\n",
    "w2v_model = Word2Vec(**params_dict)"
   ]
  },
  {
   "cell_type": "code",
   "execution_count": null,
   "metadata": {},
   "outputs": [],
   "source": []
  },
  {
   "cell_type": "code",
   "execution_count": null,
   "metadata": {},
   "outputs": [],
   "source": []
  },
  {
   "cell_type": "code",
   "execution_count": null,
   "metadata": {},
   "outputs": [],
   "source": []
  }
 ],
 "metadata": {
  "kernelspec": {
   "display_name": "tf2.2",
   "language": "python",
   "name": "tf2.2"
  },
  "language_info": {
   "codemirror_mode": {
    "name": "ipython",
    "version": 3
   },
   "file_extension": ".py",
   "mimetype": "text/x-python",
   "name": "python",
   "nbconvert_exporter": "python",
   "pygments_lexer": "ipython3",
   "version": "3.8.12"
  }
 },
 "nbformat": 4,
 "nbformat_minor": 2
}
