{
 "cells": [
  {
   "cell_type": "code",
   "execution_count": 1,
   "metadata": {},
   "outputs": [],
   "source": [
    "import random\n",
    "import numpy as np\n",
    "import pandas as pd \n",
    "import networkx as nx \n",
    "from tqdm import tqdm\n",
    "from gensim.models import Word2Vec\n",
    "\n",
    "from alias import create_alias_tables, alias_sample"
   ]
  },
  {
   "cell_type": "code",
   "execution_count": 2,
   "metadata": {},
   "outputs": [],
   "source": [
    "def random_walk(G, walk_length=10):\n",
    "    \"\"\"\n",
    "    1. 遍历所有节点，以每个节点为起始节点\n",
    "    2. 从每个起始节点开始，每次都从该节点的邻居节点中随机采样也给节点\n",
    "    3. 直到当前采样序列的长度达到指定长度或者当前采样的节点没有邻居节点的就停止当前序列的采样\n",
    "    \"\"\"\n",
    "    # 拿出所有的节点\n",
    "    nodes_list = list(G.nodes) \n",
    "\n",
    "    sentense_list = []\n",
    "    # 遍历所有节点\n",
    "    for node in tqdm(nodes_list):\n",
    "        # 以当前node为起始节点\n",
    "        tmp_sentense_list = [node]\n",
    "        \n",
    "        # 如果当前序列已经达到了指定长度，就需要停止采样\n",
    "        while len(tmp_sentense_list) < walk_length:\n",
    "            cur_node = tmp_sentense_list[-1]\n",
    "            # 获取当前节点的邻居节点\n",
    "            node_nbrs_list = list(G.neighbors(cur_node))\n",
    "            if len(node_nbrs_list) > 0:\n",
    "                # 随机选择一个节点\n",
    "                tmp_sentense_list.append(random.choice(node_nbrs_list))\n",
    "            else:\n",
    "                # 否则当前当前序列也需要到此为止\n",
    "                break\n",
    "        sentense_list.append(tmp_sentense_list)\n",
    "    return sentense_list"
   ]
  },
  {
   "cell_type": "code",
   "execution_count": 3,
   "metadata": {},
   "outputs": [],
   "source": [
    "# 带权的deepwalk随机游走\n",
    "def deepwalk_weight(G, walk_length=10):\n",
    "    \"\"\"\n",
    "    1. 遍历图中所有节点，以每个节点为起始节点采样\n",
    "    2. 用带权邻居采样代替随机采样\n",
    "    \"\"\"\n",
    "    nodes_list = G.nodes\n",
    "    \n",
    "    # 处理每个节点邻居节点的采样概率，并转化成alias表的形式\n",
    "    node_alias_dict = {}\n",
    "    for node in tqdm(nodes_list):\n",
    "        nbrs_prob_list = [G[node][nbr].get('weight', 1.0) \\\n",
    "                          for nbr in list(G.neighbors(node))]\n",
    "        normalized_prob_list = [float(prob) / sum(nbrs_prob_list)\\\n",
    "                               for prob in nbrs_prob_list]\n",
    "        # 构建alias表\n",
    "        node_alias_dict[node] = create_alias_tables(normalized_prob_list)\n",
    "    \n",
    "    # 遍历每个节点，以每个节点为起始节点进行采样\n",
    "    sentenses_list = []\n",
    "    for node in tqdm(nodes_list):\n",
    "        tmp_sentence_list = [node]\n",
    "        \n",
    "        while len(tmp_sentence_list) < walk_length:\n",
    "            cur_node = tmp_sentence_list[-1]\n",
    "            nbrs_list = list(G.neighbors(cur_node))\n",
    "            \n",
    "            # 如果当前节点没有邻居节点，则停止采样\n",
    "            if len(nbrs_list) == 0:\n",
    "                break\n",
    "            \n",
    "            # 获取当前节点邻居节点的alias表\n",
    "            accept_prob = node_alias_dict[cur_node][0]\n",
    "            alias_table = node_alias_dict[cur_node][1]\n",
    "            sample_index = alias_sample(accept_prob, alias_table)\n",
    "            tmp_sentence_list.append(nbrs_list[sample_index])\n",
    "        \n",
    "        sentenses_list.append(tmp_sentence_list)\n",
    "    \n",
    "    return sentenses_list"
   ]
  },
  {
   "cell_type": "code",
   "execution_count": 4,
   "metadata": {},
   "outputs": [
    {
     "name": "stderr",
     "output_type": "stream",
     "text": [
      "100%|████████████████████████████████████████████████████████████████████████████████████| 31364/31364 [00:00<00:00, 72095.39it/s]\n"
     ]
    }
   ],
   "source": [
    "params_dict = {\n",
    "    'sentences': '',\n",
    "    'vector_size': 32,\n",
    "    'sg': 1,\n",
    "    'min_count': 0,\n",
    "    'window': 10,\n",
    "    'negative': 5,\n",
    "    'workers': 10,\n",
    "    'epochs': 10\n",
    "}\n",
    "\n",
    "G = nx.read_edgelist('./graph.csv', create_using=nx.DiGraph(), \\\n",
    "                     nodetype=None, data=[('weight', int)])\n",
    "sentences = random_walk(G)\n",
    "\n",
    "params_dict['sentences'] = sentences\n",
    "\n",
    "# 定义word2vec模型\n",
    "w2v_model = Word2Vec(**params_dict)"
   ]
  },
  {
   "cell_type": "code",
   "execution_count": 5,
   "metadata": {},
   "outputs": [
    {
     "name": "stderr",
     "output_type": "stream",
     "text": [
      "100%|████████████████████████████████████████████████████████████████████████████████████| 31364/31364 [00:00<00:00, 97165.58it/s]\n",
      "100%|████████████████████████████████████████████████████████████████████████████████████| 31364/31364 [00:00<00:00, 61246.85it/s]\n"
     ]
    }
   ],
   "source": [
    "params_dict = {\n",
    "    'sentences': '',\n",
    "    'vector_size': 32,\n",
    "    'sg': 1,\n",
    "    'min_count': 0,\n",
    "    'window': 10,\n",
    "    'negative': 5,\n",
    "    'workers': 10,\n",
    "    'epochs': 10\n",
    "}\n",
    "\n",
    "G = nx.read_edgelist('./graph.csv', create_using=nx.DiGraph(), \\\n",
    "                     nodetype=None, data=[('weight', int)])\n",
    "sentences = deepwalk_weight(G)\n",
    "\n",
    "params_dict['sentences'] = sentences\n",
    "\n",
    "# 定义word2vec模型\n",
    "w2v_model = Word2Vec(**params_dict)"
   ]
  },
  {
   "cell_type": "code",
   "execution_count": null,
   "metadata": {},
   "outputs": [],
   "source": []
  },
  {
   "cell_type": "code",
   "execution_count": null,
   "metadata": {},
   "outputs": [],
   "source": []
  }
 ],
 "metadata": {
  "kernelspec": {
   "display_name": "tf2.2",
   "language": "python",
   "name": "tf2.2"
  },
  "language_info": {
   "codemirror_mode": {
    "name": "ipython",
    "version": 3
   },
   "file_extension": ".py",
   "mimetype": "text/x-python",
   "name": "python",
   "nbconvert_exporter": "python",
   "pygments_lexer": "ipython3",
   "version": "3.8.12"
  }
 },
 "nbformat": 4,
 "nbformat_minor": 2
}
